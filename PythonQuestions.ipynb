{
 "cells": [
  {
   "cell_type": "markdown",
   "id": "becd0f84",
   "metadata": {},
   "source": [
    "                                                                          Question: 1\n",
    "Write an efficient algorithm that searches for a value target in an m x n integer matrix. This matrix has the following properties:\n",
    "\n",
    "Integers in each row are sorted from right to left.\n",
    "\n",
    "The first integer of each row is greater than the last integer of the previous row.\n",
    "\n",
    "                              Example-: \n",
    "\n",
    "                                        Input: matrix = [[1,3,5,7],[10,11,16,20],[23,30,34,60]], target = 3\n",
    "\n",
    "                                         Output: True\n",
    "\n",
    "\n",
    "                                                                          \n",
    "                                                                    \n",
    "\n",
    " Question: 2\n",
    "\n",
    "2.  Write a program that takes a string as input, and counts the frequency of each word in the string, there might  be repeated characters in the string. Your task is to find the highest frequency and returns the length of the  highest-frequency word. \n",
    "\n",
    "Note - You have to write at least 2 additional test cases in which your program will run successfully and provide  an explanation for the same.  \n",
    "\n",
    "Example input - string = “write write write all the number from from from 1 to 100” \n",
    "\n",
    "Example output - 5 \n",
    "\n",
    "Explanation - From the given string we can note that the most frequent words are “write” and “from” and  the maximum value of both the values is “write” and its corresponding length is 5 \n",
    "\n",
    "\n",
    "\n",
    "                                                                    \n",
    "\n",
    "Machine learning:\n",
    "\n",
    "Total Marks: 30\n",
    "Each question 15 marks   \n",
    "                                                                \n",
    "\n",
    " Question: 1\n",
    "\n",
    "1. Imagine you have a dataset where you have different Instagram features like u sername , Caption , Hashtag , Followers , Time_Since_posted , and likes , now your task is to predict the number of likes and Time Since posted and the rest of the features are your input features. Now you have to build a model which can predict the number of likes and Time Since posted. \n",
    "Dataset This is the Dataset You can use this dataset for this question. \n",
    "\n",
    "\n",
    "\n",
    "\n",
    "                                                                   Question: 2\n",
    "2. \n",
    "Explain how you can implement ML in a real world application.\n",
    "\n",
    "Train an SVM regressor on : Bengaluru housing dataset\n",
    "\n",
    "                  Must include in details:\n",
    "\n",
    "                           - EDA\n",
    "\n",
    "                            - Feature engineering \n",
    "\n",
    "\n",
    "\n",
    "\n",
    "\n",
    "\n",
    "Deep Learning :\n",
    "\n",
    "Total Marks: 40\n",
    "Each question 20 marks    \n",
    "\n",
    "\n",
    "                                                                                                                              Question: 1\n",
    "\n",
    "1. Train a Pure CNN with less than 10000 trainable parameters using the MNIST Dataset having minimum validation accuracy of 99.40% \n",
    "\n",
    "Note - Code comments should be given for proper code understanding.\n",
    "\n",
    "\n",
    "\n",
    "                                                                  Question: 2\n",
    "\n",
    "2. \n",
    "Explain how you can implement DL in a real-world application.\n",
    "\n",
    "Train an industry safety Detection model that will detect the helmet wearing by the employee: Data link\n",
    "\n",
    "Note: You are free to choose frameworks as per your understanding\n",
    "\n",
    "\n",
    "\n",
    "Natural Language Processing:\n",
    "\n",
    "Total Marks: 40\n",
    "Each question 20 marks   \n",
    "\n",
    "\n",
    "                                                                        Question: 1\n",
    "\n",
    "1. Data Set Link: (Take Any Dataset but avoid using benchmark data)\n",
    "Perform Below Listed Preprocessing Task in proper order as per your dataset using torch or tensorflow.\n",
    "\n",
    "Emoji Removal \n",
    "\n",
    "Lemmatization \n",
    "\n",
    "Stemming \n",
    "\n",
    "Word Tokenization \n",
    "\n",
    "Grammar Correction\n",
    "\n",
    "Http Links Removal \n",
    "\n",
    "Stop Words Removal\n",
    "\n",
    "Sentence Tokenization \n",
    "\n",
    "Lower casing\n",
    "\n",
    " Remove white spaces\n",
    "\n",
    "Text Normalization\n",
    "\n",
    "Part of speech tagging\n",
    "\n",
    "\n",
    "\n",
    "                                                                                                                                   Question: 2\n",
    "\n",
    "2. Dataset Link: (Take Any Dataset but avoid using benchmark data)\n",
    "Tech : Pytorch or Tensorflow\n",
    "\n",
    "Take any Dataset and perform any one task. (You are free to choose Tasks as per your understanding)\n",
    "\n",
    "Tasks: Sentiment Analysis , Text Classification , Text Generation, Machine Translation, Text Summarization , Question Answering."
   ]
  },
  {
   "cell_type": "markdown",
   "id": "4f573767",
   "metadata": {},
   "source": [
    "# Question: 1\n",
    "Write an efficient algorithm that searches for a value target in an m x n integer matrix. This matrix has the following properties:\n",
    "\n",
    "Integers in each row are sorted from right to left.\n",
    "\n",
    "The first integer of each row is greater than the last integer of the previous row.\n",
    "\n",
    "                              Example-: \n",
    "\n",
    "                                        Input: matrix = [[1,3,5,7],[10,11,16,20],[23,30,34,60]], target = 3\n",
    "\n",
    "                                         Output: True"
   ]
  },
  {
   "cell_type": "code",
   "execution_count": 2,
   "id": "997e5144",
   "metadata": {},
   "outputs": [],
   "source": [
    "def searchTarget(mat,target):  # mat is the original 2-D matrix, target is value to be searched for\n",
    "    if not mat or len(mat)==0:  # return false if no matrix passed\n",
    "        return False\n",
    "    \n",
    "    r,c=len(mat), len(mat[0])  # sixe of each row and column\n",
    "    row=0\n",
    "    col=c-1   # we will start searching from top right corner\n",
    "    \n",
    "    while col>=0 and row<r:  #row col initialised to top right corner\n",
    "        if mat[row][col]==target: # if present values of matrix is equal to taget then its found, we can return either indices or value or true as per requirement\n",
    "            return True\n",
    "        elif mat[row][col]>target: # if current value > target -> it means target is present in same row but before current column\n",
    "            col=col-1\n",
    "        else:\n",
    "            row=row+1 # if curr val< target-> it means target is present in any of next rows\n",
    "    return False   # we return false if while loop is exhausted but value is not found in the matric\n",
    "    \n",
    "    "
   ]
  },
  {
   "cell_type": "code",
   "execution_count": 4,
   "id": "c8d547cf",
   "metadata": {},
   "outputs": [
    {
     "data": {
      "text/plain": [
       "True"
      ]
     },
     "execution_count": 4,
     "metadata": {},
     "output_type": "execute_result"
    }
   ],
   "source": [
    "searchTarget([[1,2,3],[4,5,6],[7,8,9]],4)"
   ]
  },
  {
   "cell_type": "code",
   "execution_count": 5,
   "id": "ee84dda7",
   "metadata": {},
   "outputs": [
    {
     "data": {
      "text/plain": [
       "False"
      ]
     },
     "execution_count": 5,
     "metadata": {},
     "output_type": "execute_result"
    }
   ],
   "source": [
    "searchTarget([[1,2,3],[4,5,6],[7,8,9]],14)"
   ]
  },
  {
   "cell_type": "markdown",
   "id": "c625e6ba",
   "metadata": {},
   "source": [
    "# Question: 2\n",
    "\n",
    "2.  Write a program that takes a string as input, and counts the frequency of each word in the string, there might  be repeated characters in the string. Your task is to find the highest frequency and returns the length of the  highest-frequency word. \n",
    "\n",
    "Note - You have to write at least 2 additional test cases in which your program will run successfully and provide  an explanation for the same.  \n",
    "\n",
    "Example input - string = “write write write all the number from from from 1 to 100” \n",
    "\n",
    "Example output - 5 \n",
    "\n",
    "Explanation - From the given string we can note that the most frequent words are “write” and “from” and  the maximum value of both the values is “write” and its corresponding length is 5 "
   ]
  },
  {
   "cell_type": "code",
   "execution_count": 38,
   "id": "ee330a38",
   "metadata": {},
   "outputs": [],
   "source": [
    "def maxCount(input_string):\n",
    "    dict_count={} # create an empty dictioanry to store all words and their frequency\n",
    "    count=0 # initialize count to 0\n",
    "    \n",
    "    for word in input_string.split(\" \"): # traverse over the string by spilling on the basis os spaces\n",
    "        word=word.strip().lower() #remove trailing and leading spaces and convert to lower case\n",
    "        \n",
    "        if word in dict_count:     # if word exists in dict, just add 1 to its value       \n",
    "            dict_count[word]=dict_count[word]+1\n",
    "        else:\n",
    "            dict_count[word]=1  # if word doesn't exists, add a new key to dict with value 1\n",
    "    #print(dict_count)\n",
    "    \n",
    "    max_word=max(dict_count,key=lambda k: dict_count[k])  # get the word with max frequency from the dictionary\n",
    "    return(dict_count[max_word])  #return the frequency of maximun occuring word"
   ]
  },
  {
   "cell_type": "code",
   "execution_count": 41,
   "id": "eb38c36c",
   "metadata": {},
   "outputs": [
    {
     "data": {
      "text/plain": [
       "3"
      ]
     },
     "execution_count": 41,
     "metadata": {},
     "output_type": "execute_result"
    }
   ],
   "source": [
    "Str1=\"write write write all the number from from from 1 to 100\"\n",
    "maxCount(Str1)"
   ]
  },
  {
   "cell_type": "code",
   "execution_count": 42,
   "id": "44c2e414",
   "metadata": {},
   "outputs": [
    {
     "data": {
      "text/plain": [
       "4"
      ]
     },
     "execution_count": 42,
     "metadata": {},
     "output_type": "execute_result"
    }
   ],
   "source": [
    "Str2=\"write write write all the number from from from 1 to 100 write why not\"\n",
    "maxCount(Str2)"
   ]
  },
  {
   "cell_type": "code",
   "execution_count": 43,
   "id": "cf030039",
   "metadata": {},
   "outputs": [
    {
     "data": {
      "text/plain": [
       "5"
      ]
     },
     "execution_count": 43,
     "metadata": {},
     "output_type": "execute_result"
    }
   ],
   "source": [
    "Str3=\"write write write all the number from from from 1 to 100 write why not all from why from\"\n",
    "maxCount(Str3)"
   ]
  },
  {
   "cell_type": "code",
   "execution_count": null,
   "id": "c109eab7",
   "metadata": {},
   "outputs": [],
   "source": []
  }
 ],
 "metadata": {
  "kernelspec": {
   "display_name": "Python 3 (ipykernel)",
   "language": "python",
   "name": "python3"
  },
  "language_info": {
   "codemirror_mode": {
    "name": "ipython",
    "version": 3
   },
   "file_extension": ".py",
   "mimetype": "text/x-python",
   "name": "python",
   "nbconvert_exporter": "python",
   "pygments_lexer": "ipython3",
   "version": "3.11.3"
  }
 },
 "nbformat": 4,
 "nbformat_minor": 5
}
